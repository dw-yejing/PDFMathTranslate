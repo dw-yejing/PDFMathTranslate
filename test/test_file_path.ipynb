{
 "cells": [
  {
   "cell_type": "code",
   "execution_count": 1,
   "id": "837d06a3",
   "metadata": {},
   "outputs": [
    {
     "data": {
      "text/plain": [
       "True"
      ]
     },
     "execution_count": 1,
     "metadata": {},
     "output_type": "execute_result"
    }
   ],
   "source": [
    "from pathlib import Path\n",
    "import os\n",
    "\n",
    "isinstance(Path(\"/a/b.pdf\"), os.PathLike) \n"
   ]
  },
  {
   "cell_type": "code",
   "execution_count": 2,
   "id": "4ad45c8e",
   "metadata": {},
   "outputs": [
    {
     "data": {
      "text/plain": [
       "False"
      ]
     },
     "execution_count": 2,
     "metadata": {},
     "output_type": "execute_result"
    }
   ],
   "source": [
    "isinstance(\"/a/b.pdf\", os.PathLike)"
   ]
  },
  {
   "cell_type": "code",
   "execution_count": 14,
   "id": "23a2944b",
   "metadata": {},
   "outputs": [
    {
     "data": {
      "text/plain": [
       "False"
      ]
     },
     "execution_count": 14,
     "metadata": {},
     "output_type": "execute_result"
    }
   ],
   "source": [
    "from typing import IO, BinaryIO\n",
    "from io import BytesIO\n",
    "a = b'this is a bytes'\n",
    "b = BytesIO(a)\n",
    "# type(b)\n",
    "isinstance(b, BinaryIO)\n"
   ]
  }
 ],
 "metadata": {
  "kernelspec": {
   "display_name": "yejing",
   "language": "python",
   "name": "python3"
  },
  "language_info": {
   "codemirror_mode": {
    "name": "ipython",
    "version": 3
   },
   "file_extension": ".py",
   "mimetype": "text/x-python",
   "name": "python",
   "nbconvert_exporter": "python",
   "pygments_lexer": "ipython3",
   "version": "3.10.17"
  }
 },
 "nbformat": 4,
 "nbformat_minor": 5
}
